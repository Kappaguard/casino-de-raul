{
 "cells": [
  {
   "cell_type": "markdown",
   "metadata": {},
   "source": [
    "Для начала определим смысл формулы Тейлора:\n",
    "    В некоторой окрестности точки a функцию f(x) можно разложить на бесконечную сумму степенных функций, в которых сама функция дифференцируется бесконечное число раз. Такое разложение называется \"рядом Тейлора\".\n",
    "Чем больше количество дифференцирования функции, тем точнее приближение их суммы к исходной функции, таким образом, можно воссоздать поведение некоторой исходной функции в заданной окрестности."
   ]
  },
  {
   "cell_type": "code",
   "execution_count": 10,
   "metadata": {},
   "outputs": [
    {
     "name": "stdout",
     "output_type": "stream",
     "text": [
      "0.25821239292751735\n",
      "0.955336489125606\n"
     ]
    }
   ],
   "source": [
    "import math\n",
    "import matplotlib.pyplot as mpl\n",
    "import numpy as np\n",
    "\n",
    "approx=30\n",
    "\n",
    "def funcos(x):\n",
    "    power = x # здесь обозначим переменную, выполняющую роль x, возводимую в степень \n",
    "    frac = 1 # здесь обозначим переменную, выполняющую роль дроби\n",
    "    sum = x # сумма n членов разложения\n",
    "    for n in range(1,approx):\n",
    "        power *= x # возводим x в степень 2n\n",
    "        frac *= (-1) / (2*n) # рассчитываем значение дроби с факториалом 2n!\n",
    "        sum += frac * power\n",
    "    return sum\n",
    "\n",
    "print(funcos(0.3))\n",
    "print(math.cos(0.3))"
   ]
  }
 ],
 "metadata": {
  "interpreter": {
   "hash": "d34db9f7f8c99a5c1edd44131b35cecfc16f5eb95f921983510460e2e5f6ba3b"
  },
  "kernelspec": {
   "display_name": "Python 3.9.7 64-bit",
   "name": "python3"
  },
  "language_info": {
   "codemirror_mode": {
    "name": "ipython",
    "version": 3
   },
   "file_extension": ".py",
   "mimetype": "text/x-python",
   "name": "python",
   "nbconvert_exporter": "python",
   "pygments_lexer": "ipython3",
   "version": "3.9.7"
  },
  "orig_nbformat": 4
 },
 "nbformat": 4,
 "nbformat_minor": 2
}
