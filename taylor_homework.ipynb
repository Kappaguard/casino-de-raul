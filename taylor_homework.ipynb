{
 "cells": [
  {
   "cell_type": "markdown",
   "metadata": {},
   "source": [
    "Для начала определим смысл формулы Тейлора:\n",
    "    В некоторой окрестности точки a функцию f(x) можно разложить на бесконечную сумму степенных функций, в которых сама функция дифференцируется бесконечное число раз. Такое разложение называется \"рядом Тейлора\".\n",
    "Чем больше количество дифференцирования функции, тем точнее приближение их суммы к исходной функции, таким образом, можно воссоздать поведение некоторой исходной функции в заданной окрестности."
   ]
  },
  {
   "cell_type": "code",
   "execution_count": 1,
   "metadata": {},
   "outputs": [
    {
     "name": "stdout",
     "output_type": "stream",
     "text": [
      "0.9274923012311815\n",
      "0.9210609940028851\n"
     ]
    }
   ],
   "source": [
    "import math\n",
    "import matplotlib.pyplot as mpl\n",
    "import numpy as np\n",
    "\n",
    "approx=10\n",
    "\n",
    "def funcos(x):\n",
    "    power = x # здесь обозначим переменную, выполняющую роль x, возводимую в степень \n",
    "    frac = 1 # здесь обозначим переменную, выполняющую роль дроби\n",
    "    sum = 1 # сумма n членов разложения\n",
    "    for n in range(1,approx):\n",
    "        power *= x # возводим x в степень 2n\n",
    "        frac *= (-1) / (2*n) # рассчитываем значение дроби с факториалом 2n!\n",
    "        sum += frac * power\n",
    "    return sum\n",
    "\n",
    "\n",
    "\n",
    "print(funcos(0.4))\n",
    "print(math.cos(0.4))"
   ]
  },
  {
   "cell_type": "markdown",
   "metadata": {},
   "source": [
    "После получения результата вычисления функции \"отечественного производства\" и сравнения его с результатом библиотечной функции можно построить визуализацию этих функций с помощью библиотеки matplotlib."
   ]
  },
  {
   "cell_type": "code",
   "execution_count": 8,
   "metadata": {},
   "outputs": [
    {
     "name": "stdout",
     "output_type": "stream",
     "text": [
      "<function funcos at 0x00000222AA9600D0> <numpy.vectorize object at 0x00000222C591D880>\n"
     ]
    },
    {
     "data": {
      "image/png": "[encoded data removed]",
      "text/plain": [
       "<Figure size 432x288 with 1 Axes>"
      ]
     },
     "metadata": {
      "needs_background": "light"
     },
     "output_type": "display_data"
    }
   ],
   "source": [
    "vs = np.vectorize(funcos)\n",
    "print(funcos, vs)\n",
    "angles = np.r_[-16.25:16.25:0.01]\n",
    "mpl.plot(angles, np.cos(angles))\n",
    "mpl.plot(angles, vs(angles))\n",
    "mpl.show()"
   ]
  }
 ],
 "metadata": {
  "interpreter": {
   "hash": "d34db9f7f8c99a5c1edd44131b35cecfc16f5eb95f921983510460e2e5f6ba3b"
  },
  "kernelspec": {
   "display_name": "Python 3.9.7 64-bit",
   "name": "python3"
  },
  "language_info": {
   "codemirror_mode": {
    "name": "ipython",
    "version": 3
   },
   "file_extension": ".py",
   "mimetype": "text/x-python",
   "name": "python",
   "nbconvert_exporter": "python",
   "pygments_lexer": "ipython3",
   "version": "3.9.7"
  },
  "orig_nbformat": 4
 },
 "nbformat": 4,
 "nbformat_minor": 2
}
