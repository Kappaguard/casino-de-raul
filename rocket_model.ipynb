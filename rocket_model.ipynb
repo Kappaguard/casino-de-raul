{
 "cells": [
  {
   "cell_type": "markdown",
   "metadata": {},
   "source": [
    "Зададим класс \"Body\" для определения физического тела в общем виде. У него будут исходные параметры: координаты по x и y, а также скорости по x и по y."
   ]
  },
  {
   "cell_type": "code",
   "execution_count": 438,
   "metadata": {},
   "outputs": [],
   "source": [
    "import math\n",
    "\n",
    "MODEL_G = 9.81\n",
    "MODEL_DT = 0.001\n",
    "\n",
    "class Body:\n",
    "    def __init__(self, x, y, vx, vy):\n",
    "        \"\"\"\n",
    "        Создать тело.\n",
    "        \n",
    "        Пареметры:\n",
    "        ----------\n",
    "        x: float\n",
    "            горизонтальная координата\n",
    "        y: float\n",
    "            вертикальная координата\n",
    "        vx: float\n",
    "            горизонтальная скорость\n",
    "        vy: float\n",
    "            вертикальная скорость\n",
    "        \"\"\"\n",
    "\n",
    "        self.x = x\n",
    "        self.y = y\n",
    "        self.vx = vx\n",
    "        self.vy = vy\n",
    "        \n",
    "        self.trajectory_x = [] # устанавливаем набор точек для определения траектории\n",
    "        self.trajectory_y = [] # \n",
    "        \n",
    "\n",
    "    def advance(self):\n",
    "        \"\"\"\n",
    "        Выполнить шаг мат. модели применительно к телу, предварительно записав его координаты\n",
    "        \"\"\"\n",
    "        self.trajectory_y.append(self.y) # записываем продвижение тела по вертикальной оси, обозначая траекторию\n",
    "        self.trajectory_x.append(self.x) # то же самое, но по горизонтальной оси\n",
    "\n",
    "        self.x += self.vx * MODEL_DT # За шаг DT увеличиваем значение координат в соответствии со скоростью по оси\n",
    "        self.y += self.vy * MODEL_DT #\n",
    "        self.vy -= MODEL_G * MODEL_DT # Моделируем движение в поле силы тяжести — ускорение свободного падения изменяет скорость тела по вертикальной оси"
   ]
  },
  {
   "cell_type": "markdown",
   "metadata": {},
   "source": [
    "Далее определим особенный класс, обладающий свойствами физического тела, но с дополнительными параметрами: массой газа, изменением массы и скоростью газовой струи."
   ]
  },
  {
   "cell_type": "code",
   "execution_count": 439,
   "metadata": {},
   "outputs": [],
   "source": [
    "class Rocket(Body):\n",
    "    def __init__(self, x, y, m, dmass, dgas):\n",
    "        \"\"\"\n",
    "        Создать ракету.\n",
    "        \n",
    "        Пареметры:\n",
    "        ----------\n",
    "        x: float\n",
    "            горизонтальная координата\n",
    "        y: float\n",
    "            вертикальная координата\n",
    "        m: float\n",
    "            масса ракеты в начальный момент\n",
    "        dmass: float\n",
    "            масса выброшенного газа за шаг\n",
    "        dgas: float\n",
    "            скорость выброшенного газа за шаг — ускорение при потере массы\n",
    "        \"\"\"\n",
    "        super().__init__(x, y, 10, 10) # Вызовем конструктор предка — тела, т.к. он для ракеты актуален\n",
    "        self.mass = m  # Добавляем характеристику ракете — массу\n",
    "        self.dmass = dmass\n",
    "        self.dgas = dgas\n",
    "\n",
    "    def advance(self):\n",
    "        super().advance() # вызовем метод предка — тела, т.к. и он для ракеты актуален.\n",
    "        if (self.mass) and (self.dgas)  >0:\n",
    "            self.vx += (self.dgas) * self.dmass / self.mass * (math.sqrt(2)/ 2) # выражаем приращение скоростей при выгорании топлива\n",
    "            self.vy += (self.dgas) * self.dmass / self.mass * (math.sqrt(2)/ 2) # \n",
    "            self.mass -= self.dmass  # моделируем потерю массы за шаг\n",
    "            if self.mass < self.dmass:\n",
    "                self.dmass = self.mass\n"
   ]
  },
  {
   "cell_type": "markdown",
   "metadata": {},
   "source": [
    "Теперь время моделировать. С помощью библиотеки numpy построим траектории движения физического тела и ракеты при одинаковых начальных условиях."
   ]
  },
  {
   "cell_type": "code",
   "execution_count": 440,
   "metadata": {},
   "outputs": [],
   "source": [
    "import numpy as np\n",
    "\n",
    "b = Body(0, 0, 10, 10)\n",
    "r = Rocket(0, 0, 10, 5, 1) # отредактировали модель ракеты, теперь задаем начальные параметры: координаты x,y, начальная масса, расход массы за шаг и изменение скорости за шаг.\n",
    "                            # таким образом, меняя количество выброшенного газа за шаг, мы меняем приращение скорости. Изменение скорости за шаг служит ускорением при потере массы. \n",
    "\n",
    "bodies = [b, r]\n",
    "# Работаем со списком тел\n",
    "\n",
    "for t in np.arange(0, 2, MODEL_DT): # для всех временных отрезков\n",
    "    for b in bodies: # для всех тел\n",
    "        b.advance() # выполним шаг\n",
    "        "
   ]
  },
  {
   "cell_type": "markdown",
   "metadata": {},
   "source": [
    "Визуализируем полученные траектории с помощью библиотеки matplotlib"
   ]
  },
  {
   "cell_type": "code",
   "execution_count": 441,
   "metadata": {},
   "outputs": [
    {
     "data": {
      "image/png": "[encoded data removed]",
      "text/plain": [
       "<Figure size 432x288 with 1 Axes>"
      ]
     },
     "metadata": {
      "needs_background": "light"
     },
     "output_type": "display_data"
    }
   ],
   "source": [
    "from matplotlib import pyplot as pp\n",
    "\n",
    "for b in bodies: # для всех тел\n",
    "    pp.plot(b.trajectory_x, b.trajectory_y) # нарисуем их траектории"
   ]
  }
 ],
 "metadata": {
  "interpreter": {
   "hash": "d34db9f7f8c99a5c1edd44131b35cecfc16f5eb95f921983510460e2e5f6ba3b"
  },
  "kernelspec": {
   "display_name": "Python 3.9.7 64-bit",
   "name": "python3"
  },
  "language_info": {
   "codemirror_mode": {
    "name": "ipython",
    "version": 3
   },
   "file_extension": ".py",
   "mimetype": "text/x-python",
   "name": "python",
   "nbconvert_exporter": "python",
   "pygments_lexer": "ipython3",
   "version": "3.9.7"
  },
  "orig_nbformat": 4
 },
 "nbformat": 4,
 "nbformat_minor": 2
}
